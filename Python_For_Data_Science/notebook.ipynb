{
 "cells": [
  {
   "cell_type": "code",
   "execution_count": 2,
   "metadata": {},
   "outputs": [
    {
     "name": "stdout",
     "output_type": "stream",
     "text": [
      "(4, 5, 6)\n",
      "5\n",
      "<class 'int'>\n",
      "6\n",
      "4\n"
     ]
    }
   ],
   "source": [
    "tup = (4, 5, 6)\n",
    "a, b, c = tup\n",
    "#  = a, b, c\n",
    "print(tup)\n",
    "print(b)\n",
    "print(type(b))\n",
    "print(c)\n",
    "print(a)"
   ]
  },
  {
   "cell_type": "code",
   "execution_count": 6,
   "metadata": {},
   "outputs": [
    {
     "name": "stdout",
     "output_type": "stream",
     "text": [
      "1\n",
      "2\n",
      "3 4 5\n",
      "(1, 2, 3, 4, 5)\n"
     ]
    }
   ],
   "source": [
    "\"\"\"rest\"\"\"\n",
    "values = 1, 2, 3, 4, 5\n",
    "# a, b, *rest = values\n",
    "a, b, *_ = values\n",
    "print(a)\n",
    "print(b)\n",
    "print(*_)\n",
    "print(values)"
   ]
  },
  {
   "cell_type": "code",
   "execution_count": 8,
   "metadata": {},
   "outputs": [
    {
     "data": {
      "text/plain": [
       "4"
      ]
     },
     "execution_count": 8,
     "metadata": {},
     "output_type": "execute_result"
    }
   ],
   "source": [
    "a = [1, 2, 2, 2, 3, 4, 2]\n",
    "a.count(2)\n",
    "# 4"
   ]
  },
  {
   "cell_type": "code",
   "execution_count": 12,
   "metadata": {},
   "outputs": [
    {
     "data": {
      "text/plain": [
       "deque([1, 2, 3, 4, 5])"
      ]
     },
     "execution_count": 12,
     "metadata": {},
     "output_type": "execute_result"
    }
   ],
   "source": [
    "from collections import deque\n",
    "d = deque([1, 2, 3, 4, 5])\n",
    "d\n",
    "# print(type(d))"
   ]
  },
  {
   "cell_type": "code",
   "execution_count": 3,
   "metadata": {},
   "outputs": [
    {
     "name": "stdout",
     "output_type": "stream",
     "text": [
      "[0, 1, 2, 3, 4, 5, 6, 7, 8, 9, 10, 11, 12, 13, 14, 15]\n"
     ]
    }
   ],
   "source": [
    "\"\"\"https://wesmckinney.com/book/python-builtin#list_concat_combine\"\"\"\n",
    "x = [num for num in range(10)]\n",
    "for i in range(10, 16):\n",
    "    x.append(i) \n",
    "print(x)\n"
   ]
  },
  {
   "cell_type": "code",
   "execution_count": 19,
   "metadata": {},
   "outputs": [
    {
     "name": "stdout",
     "output_type": "stream",
     "text": [
      "{'a': 1, 'b': 2, 'c': 3, 'd': 4, 'e': 5, 'f': 6, 'g': 7, 'h': 8, 'i': 9, 'j': 10}\n",
      "{\n",
      "    \"a\": 1,\n",
      "    \"b\": 2,\n",
      "    \"c\": 3,\n",
      "    \"d\": 4,\n",
      "    \"e\": 5,\n",
      "    \"f\": 6,\n",
      "    \"g\": 7,\n",
      "    \"h\": 8,\n",
      "    \"i\": 9,\n",
      "    \"j\": 10\n",
      "}\n"
     ]
    },
    {
     "data": {
      "text/plain": [
       "{'a': 1,\n",
       " 'b': 2,\n",
       " 'c': 3,\n",
       " 'd': 4,\n",
       " 'e': 5,\n",
       " 'f': 6,\n",
       " 'g': 7,\n",
       " 'h': 8,\n",
       " 'i': 9,\n",
       " 'j': 10}"
      ]
     },
     "execution_count": 19,
     "metadata": {},
     "output_type": "execute_result"
    }
   ],
   "source": [
    "import string\n",
    "import json\n",
    "alphabet = string.ascii_letters\n",
    "a = alphabet[:10]\n",
    "x = [num for num in range(1, 11)]\n",
    "y = zip(a, x)\n",
    "z = dict(y)\n",
    "print(z)#dict(y)\n",
    "print(json.dumps(z, indent=4))\n",
    "y\n",
    "z\n"
   ]
  },
  {
   "cell_type": "code",
   "execution_count": 6,
   "metadata": {},
   "outputs": [
    {
     "name": "stdout",
     "output_type": "stream",
     "text": [
      "{'a': 'some value', 'b': [1, 2, 3, 4], 7: 'an integer', 5: 'some value'}\n",
      "a\n",
      "some value\n",
      "b\n",
      "[1, 2, 3, 4]\n",
      "7\n",
      "an integer\n",
      "5\n",
      "some value\n"
     ]
    }
   ],
   "source": [
    "import string\n",
    "c = 'some value'\n",
    "d = [1, 2, 3, 4]\n",
    "d1 = {\n",
    "    'a': c,\n",
    "    'b': d,\n",
    "    7: 'an integer',\n",
    "    5: 'some value'\n",
    "    }\n",
    "\n",
    "# list(d1.keys())\n",
    "# list(d1.values())\n",
    "# d1.items()\n",
    "# d1['b'] = [alpha for alpha in string.ascii_letters[4]]\n",
    "# d1['b'] = string.ascii_letters[4]\n",
    "print(d1)\n",
    "# print(list(d1.items()))\n",
    "# list(d1.keys())\n",
    "for key, value in d1.items():\n",
    "    print(key)\n",
    "    print(value)\n"
   ]
  },
  {
   "cell_type": "code",
   "execution_count": 7,
   "metadata": {},
   "outputs": [
    {
     "name": "stdout",
     "output_type": "stream",
     "text": [
      "https://api.sheety.co/b17d3c0b422c3d51ecc6636c25073af5/Flight_Deals/prices\n"
     ]
    }
   ],
   "source": [
    "sheety_end_point = f'https://api.sheety.co/b17d3c0b422c3d51ecc6636c25073af5'\n",
    "project_sheet = f'Flight_Deals/prices'\n",
    "end_point = f\"{sheety_end_point}/{project_sheet}\"\n",
    "print(end_point)"
   ]
  },
  {
   "cell_type": "code",
   "execution_count": null,
   "metadata": {},
   "outputs": [],
   "source": []
  }
 ],
 "metadata": {
  "kernelspec": {
   "display_name": "Python 3",
   "language": "python",
   "name": "python3"
  },
  "language_info": {
   "codemirror_mode": {
    "name": "ipython",
    "version": 3
   },
   "file_extension": ".py",
   "mimetype": "text/x-python",
   "name": "python",
   "nbconvert_exporter": "python",
   "pygments_lexer": "ipython3",
   "version": "3.12.0"
  }
 },
 "nbformat": 4,
 "nbformat_minor": 2
}
