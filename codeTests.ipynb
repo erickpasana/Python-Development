{
 "cells": [
  {
   "cell_type": "code",
   "execution_count": null,
   "metadata": {},
   "outputs": [],
   "source": [
    "\"\"\"BMI\"\"\"\n",
    "\n",
    "height = float(input(\"What is your height?\"))\n",
    "weight = int(input(\"What is your weight?\"))\n",
    "comp_bmi = weight/(height)**2\n",
    "\n",
    "if comp_bmi <= 18.5:\n",
    "    print(f\"Your BMI is {comp_bmi}, you are underweight.\")\n",
    "elif comp_bmi > 18.5 and comp_bmi < 25:\n",
    "    print(f\"Your BMI is {comp_bmi}, you have a normal weight.\")\n",
    "elif comp_bmi >= 25 and comp_bmi < 30:\n",
    "    print(f\"Your BMI is {comp_bmi}, you are slightly overweight.\")\n",
    "elif comp_bmi >= 30 and comp_bmi < 35:\n",
    "    print(f\"Your BMI is {comp_bmi}, you are obese.\")\n",
    "elif comp_bmi >= 35:\n",
    "    print(f\"Your BMI is {comp_bmi}, you are clinically obese.\")"
   ]
  },
  {
   "cell_type": "code",
   "execution_count": null,
   "metadata": {},
   "outputs": [
    {
     "name": "stdout",
     "output_type": "stream",
     "text": [
      "Welcome to the Tip Calculator!\n",
      "\n",
      "Each person should pay: $33.60\n"
     ]
    }
   ],
   "source": [
    "\"\"\"Tip Calculator\"\"\"\n",
    "\n",
    "print(f'Welcome to the Tip Calculator!\\n')\n",
    "total_bill = float(input(\"How much is the total bill? $\\n\"))\n",
    "tip_percent = float(int(input(\"How much percentage tip would you like to give?\"))/100) + 1\n",
    "total_bill_w_tip = total_bill * tip_percent\n",
    "people = float(input(\"How many people would you like to split?\\n\"))\n",
    "# bill_per_person = format((total_bill_w_tip) / people, '.2f')\n",
    "bill_per_person = (total_bill_w_tip) / people\n",
    "print(f\"Each person should pay: ${bill_per_person:.2f}\")\n"
   ]
  },
  {
   "cell_type": "code",
   "execution_count": null,
   "metadata": {},
   "outputs": [
    {
     "data": {
      "text/plain": [
       "18"
      ]
     },
     "execution_count": 8,
     "metadata": {},
     "output_type": "execute_result"
    }
   ],
   "source": [
    "\"\"\"Number Sum\"\"\"\n",
    "\n",
    "def convert_get_num(x):\n",
    "    num = 0\n",
    "\n",
    "    if isinstance(x, int):\n",
    "        x = str(x)\n",
    "        for i in x:\n",
    "            num += int(i)\n",
    "        return num\n",
    "\n",
    "    else:\n",
    "        print('Your input is not a number!')\n",
    "        print(type(x))\n",
    "\n",
    "convert_get_num(99)"
   ]
  },
  {
   "cell_type": "code",
   "execution_count": 21,
   "metadata": {},
   "outputs": [
    {
     "data": {
      "text/plain": [
       "True"
      ]
     },
     "execution_count": 21,
     "metadata": {},
     "output_type": "execute_result"
    }
   ],
   "source": [
    "\"\"\"Leap Year\"\"\"\n",
    "\n",
    "def is_leap_year(year):\n",
    "    # year = int(input(f\"Give year!\"))\n",
    "    result = False\n",
    "    if year % 4 == 0:\n",
    "        if year % 100 == 0:\n",
    "            if year % 400 == 0:\n",
    "                result = True\n",
    "                # print(f\"Leap Year\")\n",
    "            # else:\n",
    "            #     print(f\"Not Leap Year\")\n",
    "        else:\n",
    "            result = True\n",
    "            # print(f\"Leap Year\")\n",
    "    # else:\n",
    "    #     print(f\"Not Leap Year\")\n",
    "    return result\n",
    "is_leap_year(2020)"
   ]
  },
  {
   "cell_type": "code",
   "execution_count": null,
   "metadata": {},
   "outputs": [
    {
     "name": "stdout",
     "output_type": "stream",
     "text": [
      "Thank you for choosing Python Pizza Deliveries!\n",
      "Your final bill is: $0.\n"
     ]
    }
   ],
   "source": [
    "\"\"\"Python Pizza\"\"\"\n",
    "\n",
    "# print(\"Thank you for choosing Python Pizza Deliveries!\")\n",
    "\n",
    "\"\"\"\n",
    "Small pizza (S): $15\n",
    "Medium pizza (M): $20\n",
    "Large pizza (L): $25\n",
    "\"\"\"\n",
    "\n",
    "bill = 0\n",
    "\n",
    "size = input(f\"What size pizza do you want? S, M, or L\") # What size pizza do you want? S, M, or L\n",
    "if size == 'S':\n",
    "    bill += 15\n",
    "if size == 'M':\n",
    "    bill += 20\n",
    "if size == 'L':\n",
    "    bill += 25\n",
    "add_pepperoni = input(\"Do you want extra pepperoni? Y or N\") # Do you want pepperoni? Y or N\n",
    "if add_pepperoni == 'Y':\n",
    "    if size == 'S':\n",
    "        bill += 2\n",
    "    if size == 'M':\n",
    "        bill += 3\n",
    "    if size == 'L':\n",
    "        bill += 3\n",
    "extra_cheese = input(\"Do you want extra cheese? Y or N\") # Do you want extra cheese? Y or N\n",
    "if add_pepperoni == 'Y':\n",
    "    bill += 1\n",
    "\n",
    "print(f\"Thank you for choosing Python Pizza Deliveries!\\nYour final bill is: ${bill}.\")"
   ]
  },
  {
   "cell_type": "code",
   "execution_count": 20,
   "metadata": {},
   "outputs": [
    {
     "name": "stdout",
     "output_type": "stream",
     "text": [
      "53\n",
      "Your score is 53.\n"
     ]
    }
   ],
   "source": [
    "\"\"\"Love Calculator\"\"\"\n",
    "\n",
    "# name1 = input(\"What is your name?\")\n",
    "# name2 = input(\"What is your another name?\")\n",
    "name1 = 'Angela Yu'\n",
    "name2 = 'Jack Bauer'\n",
    "# name1 = 'Erick'\n",
    "# name2 = 'Pasana'\n",
    "names = f\"{name1.lower()} {name2.lower()}\"\n",
    "firstword = \"true\"\n",
    "secondword = \"love\"\n",
    "\n",
    "firstscore = 0\n",
    "secondscore = 0\n",
    "\n",
    "for w in firstword:\n",
    "    for n in names:\n",
    "        if n == w:\n",
    "            firstscore += 1\n",
    "for w in secondword:\n",
    "    for n in names:\n",
    "        if n == w:\n",
    "            secondscore += 1\n",
    "\n",
    "lovescore = int(f\"{firstscore}{secondscore}\")\n",
    "print(lovescore)\n",
    "if lovescore < 10 or lovescore > 90:\n",
    "    print(f\"Your score is {lovescore}, you go together like coke and mentos.\")\n",
    "elif lovescore > 40 and lovescore < 50:\n",
    "    print(f\"Your score is {lovescore}, you are alright together.\")\n",
    "else:\n",
    "    print(f\"Your score is {lovescore}.\")"
   ]
  },
  {
   "cell_type": "code",
   "execution_count": 78,
   "metadata": {},
   "outputs": [
    {
     "name": "stdout",
     "output_type": "stream",
     "text": [
      "5\n",
      "['Angela', 'Ben', 'Jenny', 'Michael', 'Chloe']\n",
      "3\n",
      "Michael is going to buy the meals today!\n"
     ]
    }
   ],
   "source": [
    "\"\"\"Banker Roulette\"\"\"\n",
    "from random import randint as rdint\n",
    "input_string = \"Angela, Ben, Jenny, Michael, Chloe\"\n",
    "names = input_string.split(\", \")\n",
    "index = rdint(0, len(names)-1)\n",
    "banker = names[index]\n",
    "print(f\"{banker} is going to buy the meals today!\")\n",
    "print(len(names))\n",
    "print(names)\n",
    "print(index)"
   ]
  },
  {
   "cell_type": "code",
   "execution_count": 79,
   "metadata": {},
   "outputs": [
    {
     "name": "stdout",
     "output_type": "stream",
     "text": [
      "Kale\n"
     ]
    }
   ],
   "source": [
    "\"\"\"Nested List\"\"\"\n",
    "\n",
    "fruits = [\"Strawberries\", \"Nectarines\", \"Apples\", \"Grapes\", \"Peaches\", \"Cherries\", \"Pears\"]\n",
    "vegetables = [\"Spinach\", \"Kale\", \"Tomatoes\", \"Celery\", \"Potatoes\"]\n",
    "\n",
    "dirty_dozen = [fruits, vegetables]\n",
    "\n",
    "print(dirty_dozen[1][1])"
   ]
  },
  {
   "cell_type": "code",
   "execution_count": 48,
   "metadata": {},
   "outputs": [
    {
     "name": "stdout",
     "output_type": "stream",
     "text": [
      "Hiding your treasure! X marks the spot.\n",
      "\n",
      "'    '['A ', 'B ', 'C ']\n",
      "['1', '⬜️', '️⬜️', '️⬜️']\n",
      "['2', '⬜️', '⬜️', '️⬜️']\n",
      "['3', '⬜️️', '⬜️️', 'X']\n"
     ]
    }
   ],
   "source": [
    "\"\"\"Treasure Map\"\"\"\n",
    "\n",
    "col_label = [\"A \", \"B \", \"C \"]\n",
    "line1 = [\"1\",\"⬜️\",\"️⬜️\",\"️⬜️\"]\n",
    "line2 = [\"2\",\"⬜️\",\"⬜️\",\"️⬜️\"]\n",
    "line3 = [\"3\",\"⬜️️\",\"⬜️️\",\"⬜️️\"]\n",
    "map = [col_label, line1, line2, line3]\n",
    "x = '⬜️'\n",
    "print(\"Hiding your treasure! X marks the spot.\\n\")\n",
    "position = input(f\"Where do you want to put the treasure: Letter/Number\")\n",
    "# print(position)\n",
    "\n",
    "# col = position[0]\n",
    "# if col == 'A':\n",
    "#     col = 1\n",
    "# if col == 'B':\n",
    "#     col = 2\n",
    "# if col == 'C':\n",
    "#     col = 3\n",
    "# row = int(position[1])\n",
    "# if row == 1:\n",
    "#     row = line1\n",
    "# if row == 2:\n",
    "#     row = line2\n",
    "# if row == 3:\n",
    "#     row = line3\n",
    "# row[col] = 'X'\n",
    "\n",
    "letter = position[0].lower()\n",
    "abc = [\" \", \"a\", \"b\", \"c\"]\n",
    "letter_index = abc.index(letter)\n",
    "number_index = int(position[1])\n",
    "map[number_index][letter_index] = \"X\"\n",
    "\n",
    "map = f\"'    '{col_label}\\n{line1}\\n{line2}\\n{line3}\"\n",
    "print(map)"
   ]
  },
  {
   "cell_type": "code",
   "execution_count": null,
   "metadata": {},
   "outputs": [],
   "source": [
    "\"\"\"Average Height\"\"\"\n",
    "\n",
    "heights = [156, 178, 165, 171, 187]\n",
    "total_height = sum(heights)\n",
    "number_of_heights = len(heights)\n",
    "average_height = total_height / number_of_heights\n",
    "print(f\"total height = {total_height}\\nnumber of students = {number_of_heights}\\naverage height = {average_height}\")"
   ]
  },
  {
   "cell_type": "code",
   "execution_count": null,
   "metadata": {},
   "outputs": [],
   "source": [
    "\"\"\"FizzBuzz\"\"\"\n",
    "for num in range(1, 101):\n",
    "    if num % 3 == 0 and num %  5 == 0:\n",
    "        print(\"FizzBuzz\")\n",
    "    elif num % 3 == 0:\n",
    "        print(\"Fizz\")\n",
    "    elif num % 5 == 0:\n",
    "        print(\"Buzz\")\n",
    "    else:\n",
    "        print(num)"
   ]
  },
  {
   "cell_type": "code",
   "execution_count": 1,
   "metadata": {},
   "outputs": [
    {
     "name": "stdout",
     "output_type": "stream",
     "text": [
      "Hello Erick.\n",
      "Are you from Philippines?\n"
     ]
    }
   ],
   "source": [
    "def greeting(name, location):\n",
    "    print(f\"Hello {name}.\")\n",
    "    print(f\"Are you from {location}?\")\n",
    "\n",
    "greeting(location=\"Philippines\", name=\"Erick\")\n"
   ]
  },
  {
   "cell_type": "code",
   "execution_count": 9,
   "metadata": {},
   "outputs": [
    {
     "data": {
      "text/plain": [
       "2"
      ]
     },
     "execution_count": 9,
     "metadata": {},
     "output_type": "execute_result"
    }
   ],
   "source": [
    "\"\"\"Area Calc\"\"\"\n",
    "import math\n",
    "\n",
    "# test_w = 2\n",
    "# test_h = 4\n",
    "# cover = 5\n",
    "test_w = int(input()) # Width of wall (m)\n",
    "test_h = int(input()) # Height of wall (m)\n",
    "coverage = 5\n",
    "\n",
    "def paint_calc(width, height, cover):\n",
    "    compute = width * height/cover\n",
    "    result = math.ceil(compute)\n",
    "    return(result)\n",
    "\n",
    "\n",
    "paint_calc(height=test_h, width=test_w, cover=coverage)"
   ]
  },
  {
   "cell_type": "code",
   "execution_count": 1,
   "metadata": {},
   "outputs": [
    {
     "name": "stdout",
     "output_type": "stream",
     "text": [
      "{'Harry': 'Exceeds Expectations', 'Ron': 'Acceptable', 'Hermione': 'Outstanding', 'Draco': 'Acceptable', 'Neville': 'Fail'}\n"
     ]
    }
   ],
   "source": [
    "\"\"\"Student Grades\"\"\"\n",
    "\n",
    "student_scores = {\n",
    "    \"Harry\": 81,\n",
    "    \"Ron\": 78,\n",
    "    \"Hermione\": 99, \n",
    "    \"Draco\": 74,\n",
    "    \"Neville\": 62,\n",
    "}\n",
    "\"\"\"This is the scoring criteria:\n",
    "\n",
    "Scores 91 - 100: Grade = \"Outstanding\"\n",
    "\n",
    "Scores 81 - 90: Grade = \"Exceeds Expectations\"\n",
    "\n",
    "Scores 71 - 80: Grade = \"Acceptable\"\n",
    "\n",
    "Scores 70 or lower: Grade = \"Fail\"\"\"\n",
    "\n",
    "# 🚨 Don't change the code above 👆\n",
    "# TODO-1: Create an empty dictionary called student_grades.\n",
    "student_grades = {}\n",
    "# TODO-2: Write your code below to add the grades to student_grades.👇\n",
    "for key, value in student_scores.items():\n",
    "    grade = \"\"\n",
    "    if value >= 91 and value <= 100:\n",
    "        grade = \"Outstanding\"\n",
    "    elif value >= 81 and value <= 90:\n",
    "        grade = \"Exceeds Expectations\"\n",
    "    elif value >= 71 and value <= 80:\n",
    "        grade = \"Acceptable\"\n",
    "    elif value <= 70:\n",
    "        grade = \"Fail\"\n",
    "    student_grades[key] = grade\n",
    "\n",
    "\n",
    "# 🚨 Don't change the code below 👇\n",
    "print(student_grades)"
   ]
  },
  {
   "cell_type": "code",
   "execution_count": 8,
   "metadata": {},
   "outputs": [
    {
     "name": "stdout",
     "output_type": "stream",
     "text": [
      "I've been to Brazil 5 times.\n",
      "My favourite city was Sao Paulo.\n"
     ]
    }
   ],
   "source": [
    "\"\"\"Dictionary List\"\"\"\n",
    "\n",
    "country = input(\"Country Name\") # Add country name\n",
    "visits = int(input(\"Number of visits?\")) # Number of visits\n",
    "list_of_cities = eval(input(\"List of cities\")) # create list from formatted string\n",
    "\n",
    "travel_log = [\n",
    "    {\n",
    "    \"country\": \"France\",\n",
    "    \"visits\": 12,\n",
    "    \"cities\": [\"Paris\", \"Lille\", \"Dijon\"]\n",
    "    },\n",
    "    {\n",
    "    \"country\": \"Germany\",\n",
    "    \"visits\": 5,\n",
    "    \"cities\": [\"Berlin\", \"Hamburg\", \"Stuttgart\"]\n",
    "    },\n",
    "]\n",
    "# Do NOT change the code above 👆\n",
    "\n",
    "# TODO: Write the function that will allow new countries\n",
    "# to be added to the travel_log.\n",
    "\n",
    "def add_new_country(country, visits, list_of_cities):\n",
    "    travel_log.append({\"country\": country, \"visits\": visits, \"cities\": list_of_cities})\n",
    "\n",
    "\n",
    "# Do not change the code below 👇\n",
    "add_new_country(country, visits, list_of_cities)\n",
    "\n",
    "print(f\"I've been to {travel_log[2]['country']} {travel_log[2]['visits']} times.\")\n",
    "print(f\"My favourite city was {travel_log[2]['cities'][0]}.\")"
   ]
  },
  {
   "cell_type": "code",
   "execution_count": 2,
   "metadata": {},
   "outputs": [
    {
     "name": "stdout",
     "output_type": "stream",
     "text": [
      "15\n",
      "[1, 2, 3, 0, 5]\n"
     ]
    }
   ],
   "source": [
    "x = [1, 2, 3, 4, 5]\n",
    "\n",
    "y = sum(x)\n",
    "print(y)\n",
    "x[x.index(4)] = 0\n",
    "print(x)"
   ]
  },
  {
   "cell_type": "code",
   "execution_count": 1,
   "metadata": {},
   "outputs": [
    {
     "name": "stdout",
     "output_type": "stream",
     "text": [
      "[[1, 2, 3], [4, 5, 6], [7, 8, 9]]\n"
     ]
    }
   ],
   "source": [
    "def gen():\n",
    "    yield [i for i in range(1, 4)]\n",
    "    yield [i for i in range(4, 7)]\n",
    "    yield [i for i in range(7, 10)]\n",
    "\n",
    "gan = gen()\n",
    "gt = []\n",
    "for i in gan:\n",
    "    gt.append(i)\n",
    "print(gt)\n"
   ]
  },
  {
   "cell_type": "code",
   "execution_count": 1,
   "metadata": {},
   "outputs": [
    {
     "name": "stdout",
     "output_type": "stream",
     "text": [
      "\n",
      " _    __    \n",
      "| |  / /____\n",
      "| | / / ___/\n",
      "| |/ (__  ) \n",
      "|___/____(_)\n",
      "\n"
     ]
    }
   ],
   "source": [
    "\"\"\"Import from different source/environment\"\"\"\n",
    "import pathlib\n",
    "path = pathlib.Path(r\"C:\\Users\\flpas\\OneDrive - Connection Systems Development\\Python-Development\")\n",
    "import sys\n",
    "sys.path.append(path)\n",
    "import resources\n",
    "\n",
    "\n",
    "logo = resources.vs_logo\n",
    "print(logo)"
   ]
  },
  {
   "cell_type": "code",
   "execution_count": 35,
   "metadata": {},
   "outputs": [
    {
     "name": "stdout",
     "output_type": "stream",
     "text": [
      "latte\n",
      "{'water': 200, 'milk': 150, 'coffee': 24}\n",
      "100\n",
      "50\n",
      "76\n",
      "2.5\n",
      "{'water': 300, 'milk': 200, 'coffee': 100}\n"
     ]
    }
   ],
   "source": [
    "from resources import coffee_emoji, coffeeMENU, resources\n",
    "\n",
    "ingredient = resources\n",
    "# global water, milk, coffee, cash\n",
    "price = f\"{coffeeMENU['espresso']['cost']:.2f}\"\n",
    "water = ingredient['water']\n",
    "milk = ingredient['milk']\n",
    "coffee = ingredient['coffee']\n",
    "cash = 0.0\n",
    "order = 'latte'\n",
    "turn_on = True\n",
    "def serve(order, water, milk, coffee, cash):\n",
    "    \n",
    "    if turn_on:\n",
    "        if order == 'espresso':\n",
    "            water -= 50\n",
    "            coffee -= 18\n",
    "            cash += float(coffeeMENU['espresso']['cost'])\n",
    "        elif order == 'latte':\n",
    "            print(order)\n",
    "            water -= 200\n",
    "            milk -= 150\n",
    "            coffee -= 24\n",
    "            cash += coffeeMENU['latte']['cost']\n",
    "        elif order == \"cappuccino\":\n",
    "            water -= 250\n",
    "            milk -= 100\n",
    "            coffee -= 24\n",
    "            cash += float(coffeeMENU['cappuccino']['cost'])\n",
    "    print(f\"{order} comin' right up!\")\n",
    "# serve(order, water, milk, coffee, cash)\n",
    "# if order == coffeeMENU[order]['ingredients']:\n",
    "        # coffeeMENU[order]['ingredients']\n",
    "water -= coffeeMENU[order]['ingredients']['water']\n",
    "milk -= coffeeMENU[order]['ingredients']['milk']\n",
    "coffee -= coffeeMENU[order]['ingredients']['coffee']\n",
    "cash += coffeeMENU['latte']['cost']\n",
    "print(order)\n",
    "print(coffeeMENU[order]['ingredients'])\n",
    "print(water)\n",
    "print(milk)\n",
    "print(coffee)\n",
    "print(cash)\n",
    "print(ingredient)\n"
   ]
  },
  {
   "cell_type": "code",
   "execution_count": 2,
   "metadata": {},
   "outputs": [
    {
     "name": "stdout",
     "output_type": "stream",
     "text": [
      "{'water': 200, 'milk': 150, 'coffee': 24}\n",
      "150\n",
      "{'ingredients': {'water': 200, 'milk': 150, 'coffee': 24}, 'cost': 2.5}\n"
     ]
    }
   ],
   "source": [
    "import random\n",
    "from resources import coffee_emoji, coffeeMENU, resources\n",
    "\n",
    "order = 'latte'\n",
    "drink_ingredients = coffeeMENU[order]['ingredients']\n",
    "ingr = drink_ingredients['milk']\n",
    "ingred = coffeeMENU[order]\n",
    "\n",
    "def dicts(order):\n",
    "    for key in coffeeMENU[order]['ingredients']:\n",
    "        yield key\n",
    "        \n",
    "# ingredients = dicts(order)\n",
    "# ingredients_list = {key: ingr[key] for key in ingredients}\n",
    "# for key, value in ingredients.items():\n",
    "#     ingredients_list.update(key: value)\n",
    "# print(ingredients)\n",
    "# print(ingredients_list)\n",
    "print(drink_ingredients)\n",
    "print(ingr)\n",
    "print(ingred)\n"
   ]
  },
  {
   "cell_type": "code",
   "execution_count": 10,
   "metadata": {},
   "outputs": [
    {
     "name": "stdout",
     "output_type": "stream",
     "text": [
      "['0', '1', '2', '3', '4', '5', '6', '7', '8', '9']\n",
      "{'0': 0, '1': 1, '2': 2, '3': 3, '4': 4, '5': 5, '6': 6, '7': 7, '8': 8, '9': 9}\n"
     ]
    }
   ],
   "source": [
    "import string\n",
    "# string.digits\n",
    "stringit = [x for x in string.digits]\n",
    "num_ind = {}\n",
    "for index, element   in enumerate(stringit):\n",
    "    num_ind[element] = index\n",
    "print(stringit)\n",
    "print(num_ind)"
   ]
  },
  {
   "cell_type": "code",
   "execution_count": 20,
   "metadata": {},
   "outputs": [
    {
     "name": "stdout",
     "output_type": "stream",
     "text": [
      "<generator object count_up_to at 0x0000021BE5341300>\n",
      "1\n",
      "2\n",
      "3\n",
      "4\n",
      "5\n"
     ]
    }
   ],
   "source": [
    "def count_up_to(max):\n",
    "    count = 1\n",
    "    while count <= max:\n",
    "        yield count\n",
    "        count += 1\n",
    "\n",
    "counter = count_up_to(5)\n",
    "print(counter)\n",
    "for i in counter:\n",
    "    print(i)\n",
    "# next(counter)\n",
    "# next(counter)\n",
    "# next(counter)\n",
    "# next(counter)\n",
    "# next(counter)"
   ]
  },
  {
   "cell_type": "code",
   "execution_count": 7,
   "metadata": {},
   "outputs": [
    {
     "name": "stdout",
     "output_type": "stream",
     "text": [
      "['Ryan Decker', 'Joshua Burnett', 'Bruce House', 'Karen Pruitt', 'Thomas Guerra', 'Ryan Reed', 'Nicole Tyler', 'Christopher Flynn', 'Michael Nguyen', 'Jerry Mendoza']\n",
      "{'Ryan Decker': 62, 'Joshua Burnett': 74, 'Bruce House': 50, 'Karen Pruitt': 96, 'Thomas Guerra': 69, 'Ryan Reed': 67, 'Nicole Tyler': 59, 'Christopher Flynn': 56, 'Michael Nguyen': 90, 'Jerry Mendoza': 82}\n",
      "{'Joshua Burnett': 74, 'Karen Pruitt': 96, 'Michael Nguyen': 90, 'Jerry Mendoza': 82}\n"
     ]
    }
   ],
   "source": [
    "from faker import Faker\n",
    "import random\n",
    "\n",
    "fake = Faker()\n",
    "# fake_dict = [name for name in fake]\n",
    "fake_list = [fake.name() for i in range(10)]\n",
    "# fake_list = ['Samuel Morrison', 'Laura Curtis', 'Brandon Bradley', 'Ashley Cruz', 'Larry Hamilton']\n",
    "fake_dict = {name: random.randint(50,99) for name in fake_list}\n",
    "students_passed = {key: value for key, value in fake_dict.items() if value >= 70}\n",
    "print(fake_list)\n",
    "print(fake_dict)\n",
    "print(students_passed)"
   ]
  },
  {
   "cell_type": "code",
   "execution_count": null,
   "metadata": {},
   "outputs": [],
   "source": []
  }
 ],
 "metadata": {
  "kernelspec": {
   "display_name": "Python 3",
   "language": "python",
   "name": "python3"
  },
  "language_info": {
   "codemirror_mode": {
    "name": "ipython",
    "version": 3
   },
   "file_extension": ".py",
   "mimetype": "text/x-python",
   "name": "python",
   "nbconvert_exporter": "python",
   "pygments_lexer": "ipython3",
   "version": "3.12.0"
  }
 },
 "nbformat": 4,
 "nbformat_minor": 2
}
