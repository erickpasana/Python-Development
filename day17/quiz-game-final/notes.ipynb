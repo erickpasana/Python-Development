{
 "cells": [
  {
   "cell_type": "code",
   "execution_count": 9,
   "metadata": {},
   "outputs": [
    {
     "name": "stdout",
     "output_type": "stream",
     "text": [
      "New user created.\n",
      "kim\n",
      "1\n",
      "man\n",
      "2\n",
      "0\n",
      "1\n",
      "kim: 0 followers\n",
      "man: 1 followers\n"
     ]
    }
   ],
   "source": [
    "class User:\n",
    "    print(\"New user created.\")\n",
    "    def __init__(self, user_id, username):\n",
    "        self.id = user_id\n",
    "        self.name = username\n",
    "        self.follower = 0\n",
    "        self.following = 0\n",
    "\n",
    "    def follow(self, user):\n",
    "        user.follower += 1\n",
    "        self.following += 1\n",
    "\n",
    "\n",
    "\n",
    "user1 = User(1, 'kim')\n",
    "# user1.follower += 1\n",
    "user2 = User(2, 'man')\n",
    "print(user1.name)\n",
    "print(user1.id)\n",
    "user1.follow(user2)\n",
    "print(user2.name)\n",
    "print(user2.id)\n",
    "print(user2.following)\n",
    "print(user2.follower)\n",
    "print(f\"{user1.name}: {user1.follower} followers\")\n",
    "print(f\"{user2.name}: {user2.follower} followers\")\n",
    "# print(user2.follow, 'kim')\n",
    "# print(user2.follow, user2)"
   ]
  },
  {
   "cell_type": "code",
   "execution_count": 5,
   "metadata": {},
   "outputs": [
    {
     "name": "stdout",
     "output_type": "stream",
     "text": [
      "10\n",
      "{'category': 'Science: Computers', 'type': 'boolean', 'difficulty': 'medium', 'question': 'The HTML5 standard was published in 2014.', 'correct_answer': 'True', 'incorrect_answers': ['False']}\n",
      "The HTML5 standard was published in 2014.\n",
      "True\n"
     ]
    }
   ],
   "source": [
    "# data = \"C:\\Users\\flpas\\OneDrive - Connection Systems Development\\Python-Development\\day17\\quiz-game-final\\data.py\"\n",
    "from data import question_data as qdata\n",
    "import random\n",
    "\n",
    "# def still_has_questions(self):\n",
    "#     return self.question_number < len(self.question_list)\n",
    "\n",
    "# class Question:\n",
    "question = random.choice(qdata)\n",
    "q_text = question['question']\n",
    "q_answer = question['correct_answer']\n",
    "print(len(qdata))\n",
    "print(question)\n",
    "print(q_text)\n",
    "print(q_answer)"
   ]
  },
  {
   "cell_type": "code",
   "execution_count": 5,
   "metadata": {},
   "outputs": [
    {
     "name": "stdout",
     "output_type": "stream",
     "text": [
      "An error occurred:\n"
     ]
    }
   ],
   "source": [
    "import requests\n",
    "try:\n",
    "    response = requests.get('https://www.examplesfff.com')\n",
    "    response.raise_for_status()\n",
    "    print('Ok')\n",
    "# except requests.exceptions.HTTPError as err:\n",
    "except:\n",
    "    print('An error occurred:')"
   ]
  },
  {
   "cell_type": "code",
   "execution_count": 2,
   "metadata": {},
   "outputs": [
    {
     "name": "stdout",
     "output_type": "stream",
     "text": [
      "{'response_code': 0, 'results': [{'type': 'boolean', 'difficulty': 'hard', 'category': 'Entertainment: Film', 'question': 'YouTube personality Jenna Marbles served as an executive producer of the film Maximum Ride (2016).', 'correct_answer': 'True', 'incorrect_answers': ['False']}, {'type': 'boolean', 'difficulty': 'medium', 'category': 'Entertainment: Music', 'question': 'Metallica collaborated with Rowan Atkinson&#039;s Mr Bean on a 1992 comic relief single.', 'correct_answer': 'False', 'incorrect_answers': ['True']}, {'type': 'boolean', 'difficulty': 'medium', 'category': 'Entertainment: Video Games', 'question': 'In &quot;Overwatch,&quot; an allied McCree will say &quot;Step right up&quot; upon using his ultimate ability Deadeye.', 'correct_answer': 'True', 'incorrect_answers': ['False']}, {'type': 'boolean', 'difficulty': 'easy', 'category': 'Entertainment: Video Games', 'question': 'In &quot;Need for Speed: Porsche Unleashed&quot;, the player can only drive cars manufactured by Porsche.', 'correct_answer': 'True', 'incorrect_answers': ['False']}, {'type': 'boolean', 'difficulty': 'medium', 'category': 'Science: Gadgets', 'question': 'The Western Electric Model 500 telephone uses tone dialing to dial phone numbers.', 'correct_answer': 'False', 'incorrect_answers': ['True']}, {'type': 'boolean', 'difficulty': 'medium', 'category': 'General Knowledge', 'question': 'Furby was released in 1998.', 'correct_answer': 'True', 'incorrect_answers': ['False']}, {'type': 'boolean', 'difficulty': 'medium', 'category': 'Geography', 'question': 'The flag of South Africa features 7 colours.', 'correct_answer': 'False', 'incorrect_answers': ['True']}, {'type': 'boolean', 'difficulty': 'hard', 'category': 'Geography', 'question': 'Switzerland has four national languages, English being one of them.', 'correct_answer': 'False', 'incorrect_answers': ['True']}, {'type': 'boolean', 'difficulty': 'medium', 'category': 'General Knowledge', 'question': 'The British organisation CAMRA stands for The Campaign for Real Ale.', 'correct_answer': 'True', 'incorrect_answers': ['False']}, {'type': 'boolean', 'difficulty': 'medium', 'category': 'Vehicles', 'question': 'Arriva is owned by the Deutsche Bahn.', 'correct_answer': 'True', 'incorrect_answers': ['False']}]}\n"
     ]
    }
   ],
   "source": [
    "import requests\n",
    "import json\n",
    "\n",
    "PARAMETERS = {\n",
    "    'amount': 10,\n",
    "    'category: 9'\n",
    "    'difficulty': 'easy',\n",
    "    'type': 'boolean',\n",
    "}\n",
    "# API = \"https://opentdb.com/api.php?amount=10&difficulty=medium&type=boolean\"\n",
    "#https://opentdb.com/api.php?amount=10&category=9&difficulty=easy&type=boolean\n",
    "API = \"https://opentdb.com/api.php\"\n",
    "\n",
    "response = requests.get(url=API, params=PARAMETERS)\n",
    "response.raise_for_status()\n",
    "print(response.json())"
   ]
  }
 ],
 "metadata": {
  "kernelspec": {
   "display_name": "Python 3",
   "language": "python",
   "name": "python3"
  },
  "language_info": {
   "codemirror_mode": {
    "name": "ipython",
    "version": 3
   },
   "file_extension": ".py",
   "mimetype": "text/x-python",
   "name": "python",
   "nbconvert_exporter": "python",
   "pygments_lexer": "ipython3",
   "version": "3.12.0"
  }
 },
 "nbformat": 4,
 "nbformat_minor": 2
}
