{
 "cells": [
  {
   "cell_type": "code",
   "execution_count": 9,
   "metadata": {},
   "outputs": [
    {
     "name": "stdout",
     "output_type": "stream",
     "text": [
      "New user created.\n",
      "kim\n",
      "1\n",
      "man\n",
      "2\n",
      "0\n",
      "1\n",
      "kim: 0 followers\n",
      "man: 1 followers\n"
     ]
    }
   ],
   "source": [
    "class User:\n",
    "    print(\"New user created.\")\n",
    "    def __init__(self, user_id, username):\n",
    "        self.id = user_id\n",
    "        self.name = username\n",
    "        self.follower = 0\n",
    "        self.following = 0\n",
    "\n",
    "    def follow(self, user):\n",
    "        user.follower += 1\n",
    "        self.following += 1\n",
    "\n",
    "\n",
    "\n",
    "user1 = User(1, 'kim')\n",
    "# user1.follower += 1\n",
    "user2 = User(2, 'man')\n",
    "print(user1.name)\n",
    "print(user1.id)\n",
    "user1.follow(user2)\n",
    "print(user2.name)\n",
    "print(user2.id)\n",
    "print(user2.following)\n",
    "print(user2.follower)\n",
    "print(f\"{user1.name}: {user1.follower} followers\")\n",
    "print(f\"{user2.name}: {user2.follower} followers\")\n",
    "# print(user2.follow, 'kim')\n",
    "# print(user2.follow, user2)"
   ]
  },
  {
   "cell_type": "code",
   "execution_count": 5,
   "metadata": {},
   "outputs": [
    {
     "name": "stdout",
     "output_type": "stream",
     "text": [
      "10\n",
      "{'category': 'Science: Computers', 'type': 'boolean', 'difficulty': 'medium', 'question': 'The HTML5 standard was published in 2014.', 'correct_answer': 'True', 'incorrect_answers': ['False']}\n",
      "The HTML5 standard was published in 2014.\n",
      "True\n"
     ]
    }
   ],
   "source": [
    "# data = \"C:\\Users\\flpas\\OneDrive - Connection Systems Development\\Python-Development\\day17\\quiz-game-final\\data.py\"\n",
    "from data import question_data as qdata\n",
    "import random\n",
    "\n",
    "# def still_has_questions(self):\n",
    "#     return self.question_number < len(self.question_list)\n",
    "\n",
    "# class Question:\n",
    "question = random.choice(qdata)\n",
    "q_text = question['question']\n",
    "q_answer = question['correct_answer']\n",
    "print(len(qdata))\n",
    "print(question)\n",
    "print(q_text)\n",
    "print(q_answer)"
   ]
  }
 ],
 "metadata": {
  "kernelspec": {
   "display_name": "Python 3",
   "language": "python",
   "name": "python3"
  },
  "language_info": {
   "codemirror_mode": {
    "name": "ipython",
    "version": 3
   },
   "file_extension": ".py",
   "mimetype": "text/x-python",
   "name": "python",
   "nbconvert_exporter": "python",
   "pygments_lexer": "ipython3",
   "version": "3.12.0"
  }
 },
 "nbformat": 4,
 "nbformat_minor": 2
}
