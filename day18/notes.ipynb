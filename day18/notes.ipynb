{
 "cells": [
  {
   "cell_type": "code",
   "execution_count": 49,
   "metadata": {},
   "outputs": [
    {
     "name": "stdout",
     "output_type": "stream",
     "text": [
      "(234, 176, 27)\n",
      "<class 'tuple'>\n",
      "(234, 176, 27)\n",
      "<class 'tuple'>\n"
     ]
    }
   ],
   "source": [
    "import random\n",
    "\n",
    "# rgb = []\n",
    "# rgb = [random.choice(range(256)) for i in range(3)]\n",
    "rgb = tuple(random.randint(0, 255) for i in range(3))\n",
    "colour = tuple(rgb)\n",
    "# for _ in range(3):\n",
    "#     rgb.append(random.choice(range(256)))\n",
    "\n",
    "print(rgb)\n",
    "print(type(rgb))\n",
    "print(colour)\n",
    "print(type(colour))"
   ]
  },
  {
   "cell_type": "code",
   "execution_count": 38,
   "metadata": {},
   "outputs": [
    {
     "name": "stdout",
     "output_type": "stream",
     "text": [
      "113\n",
      "<class 'str'>\n"
     ]
    }
   ],
   "source": [
    "rgb = f\"{random.randint(0, 255)}\"\n",
    "\n",
    "# colours = rgb.split('')\n",
    "print(rgb)\n",
    "print(type(rgb))\n",
    "# print(colours)\n",
    "# print(type(colours))"
   ]
  }
 ],
 "metadata": {
  "kernelspec": {
   "display_name": "Python 3",
   "language": "python",
   "name": "python3"
  },
  "language_info": {
   "codemirror_mode": {
    "name": "ipython",
    "version": 3
   },
   "file_extension": ".py",
   "mimetype": "text/x-python",
   "name": "python",
   "nbconvert_exporter": "python",
   "pygments_lexer": "ipython3",
   "version": "3.12.0"
  }
 },
 "nbformat": 4,
 "nbformat_minor": 2
}
