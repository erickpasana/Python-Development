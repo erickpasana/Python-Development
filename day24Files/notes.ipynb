{
 "cells": [
  {
   "cell_type": "code",
   "execution_count": 5,
   "metadata": {},
   "outputs": [
    {
     "name": "stdout",
     "output_type": "stream",
     "text": [
      "3\n",
      "<class 'int'>\n"
     ]
    }
   ],
   "source": [
    "amt = 1\n",
    "contents2 = 0\n",
    "\n",
    "# with open(r\"C:\\Users\\flpas\\OneDrive - Connection Systems Development\\Python-Development\\day20\\data.txt\", 'r') as file:\n",
    "with open(r\"..\\day20\\data.txt\", 'r') as file:\n",
    "    # file.write(\"\\nAnd I'm from Leyte\")\n",
    "    # contents = file.read()\n",
    "    # print(contents)\n",
    "    # print(type(contents))\n",
    "    contents2 = int(file.read())\n",
    "    print(contents2)\n",
    "    print(type(contents2))"
   ]
  },
  {
   "cell_type": "code",
   "execution_count": 10,
   "metadata": {},
   "outputs": [
    {
     "name": "stdout",
     "output_type": "stream",
     "text": [
      "Dear [name],\n",
      "\n",
      "You are invited to my birthday this Saturday.\n",
      "\n",
      "Hope you can make it!\n",
      "\n",
      "Angela\n",
      "\n",
      "91\n",
      "Dear kim,\n",
      "\n",
      "You are invited to my birthday this Saturday.\n",
      "\n",
      "Hope you can make it!\n",
      "\n",
      "Angela\n",
      "\n"
     ]
    }
   ],
   "source": [
    "letter = ''\n",
    "amt = ''\n",
    "\n",
    "with open(r\"\\Users\\flpas\\OneDrive - Connection Systems Development\\Python-Development\\day24Files\\Mail+Merge+Project+Start\\Mail Merge Project Start\\Input\\Letters\\starting_letter.txt\", 'r') as file:\n",
    "    # let = file.readlines()\n",
    "    let = file.read()\n",
    "    amt = let.replace(\"Dear [name],\\n\", \"Dear kim,\\n\")\n",
    "\n",
    "    print(let)\n",
    "    print(len(let))\n",
    "print(amt)"
   ]
  },
  {
   "cell_type": "code",
   "execution_count": 12,
   "metadata": {},
   "outputs": [
    {
     "name": "stdout",
     "output_type": "stream",
     "text": [
      "['Aang\\n', 'Zuko\\n', 'Appa\\n', 'Katara\\n', 'Sokka\\n', 'Momo\\n', 'Uncle Iroh\\n', 'Toph']\n"
     ]
    }
   ],
   "source": [
    "with open(r\"C:\\Users\\flpas\\OneDrive - Connection Systems Development\\Python-Development\\day24Files\\Mail+Merge+Project+Start\\Mail Merge Project Start\\Input\\Names\\invited_names.txt\", 'r') as file:\n",
    "    print(file.readlines())"
   ]
  },
  {
   "cell_type": "code",
   "execution_count": null,
   "metadata": {},
   "outputs": [],
   "source": []
  }
 ],
 "metadata": {
  "kernelspec": {
   "display_name": "Python 3",
   "language": "python",
   "name": "python3"
  },
  "language_info": {
   "codemirror_mode": {
    "name": "ipython",
    "version": 3
   },
   "file_extension": ".py",
   "mimetype": "text/x-python",
   "name": "python",
   "nbconvert_exporter": "python",
   "pygments_lexer": "ipython3",
   "version": "3.12.0"
  }
 },
 "nbformat": 4,
 "nbformat_minor": 2
}
