{
 "cells": [
  {
   "cell_type": "code",
   "execution_count": 1,
   "metadata": {},
   "outputs": [
    {
     "name": "stdout",
     "output_type": "stream",
     "text": [
      "['day,temp,condition', 'Monday,12,Sunny', 'Tuesday,14,Rain', 'Wednesday,15,Rain', 'Thursday,14,Cloudy', 'Friday,21,Sunny', 'Saturday,22,Sunny', 'Sunday,24,Sunny']\n",
      "['day,temp,condition\\n', 'Monday,12,Sunny\\n', 'Tuesday,14,Rain\\n', 'Wednesday,15,Rain\\n', 'Thursday,14,Cloudy\\n', 'Friday,21,Sunny\\n', 'Saturday,22,Sunny\\n', 'Sunday,24,Sunny']\n"
     ]
    }
   ],
   "source": [
    "with open('weather_data.csv', 'r') as weather:\n",
    "    wd = weather.readlines()\n",
    "    w_list = [line.strip() for line in wd]\n",
    "    # w_list = [line for line in wd]\n",
    "    # for line in wd:\n",
    "    #     line = line.strip()\n",
    "    #     w_list.append(line)\n",
    "    print(w_list)\n",
    "    print(wd)"
   ]
  },
  {
   "cell_type": "code",
   "execution_count": 30,
   "metadata": {},
   "outputs": [
    {
     "name": "stdout",
     "output_type": "stream",
     "text": [
      "         day  temp condition\n",
      "0     Monday    12     Sunny\n",
      "1    Tuesday    14      Rain\n",
      "2  Wednesday    15      Rain\n",
      "3   Thursday    14    Cloudy\n",
      "4     Friday    21     Sunny\n",
      "5   Saturday    22     Sunny\n",
      "6     Sunday    24     Sunny\n"
     ]
    }
   ],
   "source": [
    "import csv\n",
    "import pandas\n",
    "\n",
    "\n",
    "data = pandas.read_csv('weather_data.csv')\n",
    "# data = pandas.read_csv(r\"C:\\Users\\flpas\\OneDrive - Connection Systems Development\\Python-Development\\day25Files\\weather_data.csv\")\n",
    "    \n",
    "# with open('weather_data.csv') as weather_data:\n",
    "#     data = csv.reader(weather_data)\n",
    "#     temp = [row[1] for row in data]\n",
    "#     temp2 = [int(row) for row in temp[1:]]\n",
    "print(data)\n",
    "# print(temp2)\n",
    "# temp2.insert(0, temp[0])\n",
    "# print(temp2)"
   ]
  },
  {
   "cell_type": "code",
   "execution_count": 28,
   "metadata": {},
   "outputs": [
    {
     "name": "stdout",
     "output_type": "stream",
     "text": [
      "1\n"
     ]
    }
   ],
   "source": [
    "import pandas\n",
    "\n",
    "data = pandas.read_csv('weather_data.csv')\n",
    "try:\n",
    "    print(data['temp'].value_counts().loc[15])\n",
    "except KeyError:\n",
    "    print(\"The value 15 does not appear in the temperature column.\")\n",
    "# print(data['temp'].count(15))\n",
    "# ave_temp = data['temp'].max()\n",
    "# print(ave_temp)"
   ]
  },
  {
   "cell_type": "code",
   "execution_count": 29,
   "metadata": {},
   "outputs": [
    {
     "name": "stdout",
     "output_type": "stream",
     "text": [
      "      day  temp condition\n",
      "6  Sunday    24     Sunny\n"
     ]
    }
   ],
   "source": [
    "import pandas\n",
    "\n",
    "data = pandas.read_csv('weather_data.csv')\n",
    "high = data[data.temp == data.temp.max()]\n",
    "print(high)"
   ]
  },
  {
   "cell_type": "code",
   "execution_count": 32,
   "metadata": {},
   "outputs": [
    {
     "name": "stdout",
     "output_type": "stream",
     "text": [
      "0    12\n",
      "Name: temp, dtype: int64\n",
      "0    53.6\n",
      "Name: temp, dtype: float64\n"
     ]
    }
   ],
   "source": [
    "import pandas\n",
    "\n",
    "data = pandas.read_csv('weather_data.csv')\n",
    "temp_last_mon = data[data.day == 'Monday'].temp\n",
    "temp_last_mon_F = temp_last_mon * 1.8 + 32\n",
    "print(temp_last_mon)\n",
    "print(temp_last_mon_F)"
   ]
  }
 ],
 "metadata": {
  "kernelspec": {
   "display_name": "Python 3",
   "language": "python",
   "name": "python3"
  },
  "language_info": {
   "codemirror_mode": {
    "name": "ipython",
    "version": 3
   },
   "file_extension": ".py",
   "mimetype": "text/x-python",
   "name": "python",
   "nbconvert_exporter": "python",
   "pygments_lexer": "ipython3",
   "version": "3.12.0"
  }
 },
 "nbformat": 4,
 "nbformat_minor": 2
}
