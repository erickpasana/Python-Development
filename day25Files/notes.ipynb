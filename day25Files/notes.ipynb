{
 "cells": [
  {
   "cell_type": "code",
   "execution_count": 1,
   "metadata": {},
   "outputs": [
    {
     "name": "stdout",
     "output_type": "stream",
     "text": [
      "['day,temp,condition', 'Monday,12,Sunny', 'Tuesday,14,Rain', 'Wednesday,15,Rain', 'Thursday,14,Cloudy', 'Friday,21,Sunny', 'Saturday,22,Sunny', 'Sunday,24,Sunny']\n",
      "['day,temp,condition\\n', 'Monday,12,Sunny\\n', 'Tuesday,14,Rain\\n', 'Wednesday,15,Rain\\n', 'Thursday,14,Cloudy\\n', 'Friday,21,Sunny\\n', 'Saturday,22,Sunny\\n', 'Sunday,24,Sunny']\n"
     ]
    }
   ],
   "source": [
    "with open('weather_data.csv', 'r') as weather:\n",
    "    wd = weather.readlines()\n",
    "    w_list = [line.strip() for line in wd]\n",
    "    # w_list = [line for line in wd]\n",
    "    # for line in wd:\n",
    "    #     line = line.strip()\n",
    "    #     w_list.append(line)\n",
    "    print(w_list)\n",
    "    print(wd)"
   ]
  },
  {
   "cell_type": "code",
   "execution_count": 3,
   "metadata": {},
   "outputs": [
    {
     "name": "stdout",
     "output_type": "stream",
     "text": [
      "         day  temp condition\n",
      "0     Monday    12     Sunny\n",
      "1    Tuesday    14      Rain\n",
      "2  Wednesday    15      Rain\n",
      "3   Thursday    14    Cloudy\n",
      "4     Friday    21     Sunny\n",
      "5   Saturday    22     Sunny\n",
      "6     Sunday    24     Sunny\n"
     ]
    }
   ],
   "source": [
    "import csv\n",
    "import pandas\n",
    "\n",
    "\n",
    "data = pandas.read_csv('weather_data.csv')\n",
    "# data = pandas.read_csv(r\"C:\\Users\\flpas\\OneDrive - Connection Systems Development\\Python-Development\\day25Files\\weather_data.csv\")\n",
    "    \n",
    "# with open('weather_data.csv') as weather_data:\n",
    "#     data = csv.reader(weather_data)\n",
    "#     temp = [row[1] for row in data]\n",
    "#     temp2 = [int(row) for row in temp[1:]]\n",
    "print(data)\n",
    "# print(temp2)\n",
    "# temp2.insert(0, temp[0])\n",
    "# print(temp2)"
   ]
  },
  {
   "cell_type": "code",
   "execution_count": 28,
   "metadata": {},
   "outputs": [
    {
     "name": "stdout",
     "output_type": "stream",
     "text": [
      "1\n"
     ]
    }
   ],
   "source": [
    "import pandas\n",
    "\n",
    "data = pandas.read_csv('weather_data.csv')\n",
    "try:\n",
    "    print(data['temp'].value_counts().loc[15])\n",
    "except KeyError:\n",
    "    print(\"The value 15 does not appear in the temperature column.\")\n",
    "# print(data['temp'].count(15))\n",
    "# ave_temp = data['temp'].max()\n",
    "# print(ave_temp)"
   ]
  },
  {
   "cell_type": "code",
   "execution_count": 29,
   "metadata": {},
   "outputs": [
    {
     "name": "stdout",
     "output_type": "stream",
     "text": [
      "      day  temp condition\n",
      "6  Sunday    24     Sunny\n"
     ]
    }
   ],
   "source": [
    "import pandas\n",
    "\n",
    "data = pandas.read_csv('weather_data.csv')\n",
    "high = data[data.temp == data.temp.max()]\n",
    "print(high)"
   ]
  },
  {
   "cell_type": "code",
   "execution_count": 9,
   "metadata": {},
   "outputs": [
    {
     "name": "stdout",
     "output_type": "stream",
     "text": [
      "0    12\n",
      "Name: temp, dtype: int64\n",
      "0    53.6\n",
      "Name: temp, dtype: float64\n"
     ]
    }
   ],
   "source": [
    "import pandas\n",
    "\n",
    "data = pandas.read_csv('weather_data.csv')\n",
    "# temp_last_mon = data[data.day == 'Monday'].temp\n",
    "temp_last_mon = data.loc[data.day == 'Monday', 'temp']\n",
    "temp_last_mon_F = temp_last_mon * 1.8 + 32\n",
    "print(temp_last_mon)\n",
    "print(temp_last_mon_F)"
   ]
  },
  {
   "cell_type": "code",
   "execution_count": 15,
   "metadata": {},
   "outputs": [
    {
     "name": "stdout",
     "output_type": "stream",
     "text": [
      "Primary Fur Color\n",
      "Gray        2473\n",
      "Cinnamon     392\n",
      "Black        103\n",
      "Name: count, dtype: int64\n",
      "[nan 'Gray' 'Cinnamon' 'Black']\n"
     ]
    }
   ],
   "source": [
    "import pandas as pd\n",
    "\n",
    "df = pandas.read_csv('2018_Central_Park_Squirrel_Census_-_Squirrel_Data.csv')\n",
    "fur_color_count = df[\"Primary Fur Color\"]\n",
    "\n",
    "# fur_color = df.PrimaryFurColor\n",
    "print(fur_color_count.value_counts())\n",
    "print(fur_color_count.unique())\n",
    "# print(fur_color_count)"
   ]
  },
  {
   "cell_type": "code",
   "execution_count": 41,
   "metadata": {},
   "outputs": [
    {
     "name": "stdout",
     "output_type": "stream",
     "text": [
      "                   buok\n",
      "Primary Fur Color      \n",
      "Gray               2473\n",
      "Cinnamon            392\n",
      "Black               103\n"
     ]
    }
   ],
   "source": [
    "import pandas as pd\n",
    "\n",
    "df = pandas.read_csv('2018_Central_Park_Squirrel_Census_-_Squirrel_Data.csv')\n",
    "fur_color_count = df[\"Primary Fur Color\"]\n",
    "df2 = fur_color_count.value_counts()\n",
    "df2 = pd.DataFrame(df2)\n",
    "df2 = df2.rename(columns={\"Primary Fur Color\": \"col\", \"count\": \"buok\"})\n",
    "df2.to_csv('color&count.csv')\n",
    "# df4 = df3.rename(columns = {\"Primary Fur Color\": 'color'})\n",
    "# df3[\"colors\"] = df3[\"Primary Fur Color\"].unique()\n",
    "# df2[\"colors\"] = df[\"fur_color_count\"].unique()\n",
    "# df2['count'] = df[\"Primary Fur Color\"].value_counts()\n",
    "print(df2)\n",
    "# print(df4)"
   ]
  },
  {
   "cell_type": "code",
   "execution_count": 46,
   "metadata": {},
   "outputs": [
    {
     "name": "stdout",
     "output_type": "stream",
     "text": [
      "  fur_color  kabuok\n",
      "0      Gray    2473\n",
      "1  Cinnamon     392\n",
      "2     Black     103\n"
     ]
    }
   ],
   "source": [
    "import pandas as pd\n",
    "\n",
    "df = pandas.read_csv('color&count.csv')\n",
    "df = df.rename(columns={'color': 'fur_color', 'buok': 'kabuok'})\n",
    "df.to_csv('kabuok.csv')\n",
    "print(df)"
   ]
  },
  {
   "cell_type": "code",
   "execution_count": 41,
   "metadata": {},
   "outputs": [
    {
     "name": "stdout",
     "output_type": "stream",
     "text": [
      "x = 34    176\n",
      "Name: x, dtype: int64   y = 52\n",
      "It is.\n",
      "Index([34], dtype='int64')\n",
      "<class 'pandas.core.indexes.base.Index'>\n"
     ]
    },
    {
     "name": "stderr",
     "output_type": "stream",
     "text": [
      "C:\\Users\\flpas\\AppData\\Local\\Temp\\ipykernel_11292\\386033592.py:21: FutureWarning: Calling int on a single element Series is deprecated and will raise a TypeError in the future. Use int(ser.iloc[0]) instead\n",
      "  y_coord = int(df[df.state == user_answer]['y'])\n"
     ]
    },
    {
     "data": {
      "text/plain": [
       "pandas.core.series.Series"
      ]
     },
     "execution_count": 41,
     "metadata": {},
     "output_type": "execute_result"
    }
   ],
   "source": [
    "import pandas as pd\n",
    "\n",
    "df = pd.read_csv(r'C:\\Users\\flpas\\OneDrive - Connection Systems Development\\Python-Development\\day25Files\\day-25-us-states-game-start\\50_states.csv')\n",
    "user_answer = 'Ohio'\n",
    "user_answer = user_answer.lower()\n",
    "user_answer= user_answer.title()\n",
    "\n",
    "# x_coord = df.loc[df.state == user_answer, 'x']\n",
    "# y_coord = df.loc[df.state == user_answer, 'y']\n",
    "# x_coord = df.loc[34, 'x']\n",
    "# y_coord = df.loc[34, 'y']\n",
    "# coords = f\"x = {x_coord}   y = {y_coord}\"\n",
    "# print(coords)\n",
    "\n",
    "states = df.state.to_list()\n",
    "\n",
    "if user_answer in states:\n",
    "    x_coord = int(df[df.state == user_answer]['x'])\n",
    "    x_coord_index = df.index[df.state == user_answer]\n",
    "    y_coord = int(df[df.state == user_answer]['y'])\n",
    "    #     write_state = turtle.Turtle()\n",
    "    #     write_state.hideturtle()\n",
    "    #     write_state.penup()\n",
    "    #     write_state.goto(x_coord, y_coord)\n",
    "    #     write_state.write(user_answer)\n",
    "    coords = f\"x = {x_coord}   y = {y_coord}\"\n",
    "    print(coords)\n",
    "    # print(type(x_coord))\n",
    "    print('It is.')\n",
    "else:\n",
    "    print('It is not.')\n",
    "print(x_coord_index)\n",
    "print(type(x_coord_index))\n",
    "type(df[df.state == 'Ohio']['x'])"
   ]
  },
  {
   "cell_type": "code",
   "execution_count": 24,
   "metadata": {},
   "outputs": [
    {
     "name": "stdout",
     "output_type": "stream",
     "text": [
      "Ohio\n"
     ]
    }
   ],
   "source": [
    "user_answer = 'ohio'\n",
    "user_answer = user_answer.lower()\n",
    "user_answer= user_answer.title()\n",
    "print(user_answer)"
   ]
  },
  {
   "cell_type": "code",
   "execution_count": 45,
   "metadata": {},
   "outputs": [
    {
     "name": "stdout",
     "output_type": "stream",
     "text": [
      "             state    x    y\n",
      "0          Alabama  139  -77\n",
      "1           Alaska -204 -170\n",
      "2          Arizona -203  -40\n",
      "3         Arkansas   57  -53\n",
      "4       California -297   13\n",
      "5         Colorado -112   20\n",
      "6      Connecticut  297   96\n",
      "7         Delaware  275   42\n",
      "8          Florida  220 -145\n",
      "9          Georgia  182  -75\n",
      "10          Hawaii -317 -143\n",
      "11           Idaho -216  122\n",
      "12        Illinois   95   37\n",
      "13         Indiana  133   39\n",
      "14            Iowa   38   65\n",
      "15          Kansas  -17    5\n",
      "16        Kentucky  149    1\n",
      "17       Louisiana   59 -114\n",
      "18           Maine  319  164\n",
      "19        Maryland  288   27\n",
      "20   Massachusetts  312  112\n",
      "21        Michigan  148  101\n",
      "22       Minnesota   23  135\n",
      "23     Mississippi   94  -78\n",
      "24        Missouri   49    6\n",
      "25         Montana -141  150\n",
      "26        Nebraska  -61   66\n",
      "27          Nevada -257   56\n",
      "28   New Hampshire  302  127\n",
      "29      New Jersey  282   65\n",
      "30      New Mexico -128  -43\n",
      "31        New York  236  104\n",
      "32  North Carolina  239  -22\n",
      "33    North Dakota  -44  158\n",
      "34            Ohio  176   52\n",
      "35        Oklahoma   -8  -41\n",
      "36          Oregon -278  138\n",
      "37    Pennsylvania  238   72\n",
      "38    Rhode Island  318   94\n",
      "39  South Carolina  218  -51\n",
      "40    South Dakota  -44  109\n",
      "41       Tennessee  131  -34\n",
      "42           Texas  -38 -106\n",
      "43            Utah -189   34\n",
      "44         Vermont  282  154\n",
      "45        Virginia  234   12\n",
      "46      Washington -257  193\n",
      "47   West Virginia  200   20\n",
      "48       Wisconsin   83  113\n",
      "49         Wyoming -134   90\n"
     ]
    }
   ],
   "source": [
    "import pandas as pd\n",
    "\n",
    "df = pd.read_csv(r'C:\\Users\\flpas\\OneDrive - Connection Systems Development\\Python-Development\\day25Files\\day-25-us-states-game-start\\50_states.csv')\n",
    "# guessed_states = ['Alabama', 'Alaska', 'Arizona', 'Arkansas', 'California',]\n",
    "\n",
    "# Use boolean indexing to select rows where the state is not in guessed_states\n",
    "# df = df[~df['state'].isin(guessed_states)]\n",
    "\n",
    "print(df)"
   ]
  },
  {
   "cell_type": "code",
   "execution_count": 43,
   "metadata": {},
   "outputs": [
    {
     "name": "stdout",
     "output_type": "stream",
     "text": [
      "             state    x    y\n",
      "5         Colorado -112   20\n",
      "6      Connecticut  297   96\n",
      "7         Delaware  275   42\n",
      "8          Florida  220 -145\n",
      "9          Georgia  182  -75\n",
      "10          Hawaii -317 -143\n",
      "11           Idaho -216  122\n",
      "12        Illinois   95   37\n",
      "13         Indiana  133   39\n",
      "14            Iowa   38   65\n",
      "15          Kansas  -17    5\n",
      "16        Kentucky  149    1\n",
      "17       Louisiana   59 -114\n",
      "18           Maine  319  164\n",
      "19        Maryland  288   27\n",
      "20   Massachusetts  312  112\n",
      "21        Michigan  148  101\n",
      "22       Minnesota   23  135\n",
      "23     Mississippi   94  -78\n",
      "24        Missouri   49    6\n",
      "25         Montana -141  150\n",
      "26        Nebraska  -61   66\n",
      "27          Nevada -257   56\n",
      "28   New Hampshire  302  127\n",
      "29      New Jersey  282   65\n",
      "30      New Mexico -128  -43\n",
      "31        New York  236  104\n",
      "32  North Carolina  239  -22\n",
      "33    North Dakota  -44  158\n",
      "34            Ohio  176   52\n",
      "35        Oklahoma   -8  -41\n",
      "36          Oregon -278  138\n",
      "37    Pennsylvania  238   72\n",
      "38    Rhode Island  318   94\n",
      "39  South Carolina  218  -51\n",
      "40    South Dakota  -44  109\n",
      "41       Tennessee  131  -34\n",
      "42           Texas  -38 -106\n",
      "43            Utah -189   34\n",
      "44         Vermont  282  154\n",
      "45        Virginia  234   12\n",
      "46      Washington -257  193\n",
      "47   West Virginia  200   20\n",
      "48       Wisconsin   83  113\n",
      "49         Wyoming -134   90\n"
     ]
    }
   ],
   "source": [
    "import pandas as pd\n",
    "\n",
    "df = pd.read_csv(r'C:\\Users\\flpas\\OneDrive - Connection Systems Development\\Python-Development\\day25Files\\day-25-us-states-game-start\\50_states.csv')\n",
    "guessed_states = ['Alabama', 'Alaska', 'Arizona', 'Arkansas', 'California',]\n",
    "\n",
    "# Use boolean indexing to select rows where the state is not in guessed_states\n",
    "df = df[~df['state'].isin(guessed_states)]\n",
    "\n",
    "print(df)"
   ]
  },
  {
   "cell_type": "code",
   "execution_count": null,
   "metadata": {},
   "outputs": [],
   "source": []
  }
 ],
 "metadata": {
  "kernelspec": {
   "display_name": "Python 3",
   "language": "python",
   "name": "python3"
  },
  "language_info": {
   "codemirror_mode": {
    "name": "ipython",
    "version": 3
   },
   "file_extension": ".py",
   "mimetype": "text/x-python",
   "name": "python",
   "nbconvert_exporter": "python",
   "pygments_lexer": "ipython3",
   "version": "3.12.0"
  }
 },
 "nbformat": 4,
 "nbformat_minor": 2
}
