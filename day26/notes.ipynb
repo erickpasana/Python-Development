{
 "cells": [
  {
   "cell_type": "markdown",
   "metadata": {},
   "source": [
    "Dictionary Comprehension"
   ]
  },
  {
   "cell_type": "code",
   "execution_count": 11,
   "metadata": {},
   "outputs": [
    {
     "name": "stdout",
     "output_type": "stream",
     "text": [
      "{'Jason Pineda': 54, 'Samantha Peterson': 62, 'Melissa Smith': 80, 'Michelle Turner': 92, 'Denise Gibson': 52, 'Anthony Snyder': 79, 'Timothy Ford': 87, 'Tracey Matthews': 71, 'Maureen Lyons': 94, 'Brittany Davis': 75}\n",
      "            students  grade\n",
      "0       Jason Pineda     54\n",
      "1  Samantha Peterson     62\n",
      "2      Melissa Smith     80\n",
      "3    Michelle Turner     92\n",
      "4      Denise Gibson     52\n",
      "5     Anthony Snyder     79\n",
      "6       Timothy Ford     87\n",
      "7    Tracey Matthews     71\n",
      "8      Maureen Lyons     94\n",
      "9     Brittany Davis     75\n",
      "[('Jason Pineda', 54), ('Samantha Peterson', 62), ('Melissa Smith', 80), ('Michelle Turner', 92), ('Denise Gibson', 52), ('Anthony Snyder', 79), ('Timothy Ford', 87), ('Tracey Matthews', 71), ('Maureen Lyons', 94), ('Brittany Davis', 75)]\n"
     ]
    }
   ],
   "source": [
    "from faker import Faker\n",
    "import random\n",
    "import pandas as pd\n",
    "\n",
    "fake = Faker()\n",
    "fake_list = [fake.name() for i in range(10)]\n",
    "fake_dict = {name: random.randint(50,99) for name in fake_list}\n",
    "students_passed = {key: value for key, value in fake_dict.items() if value >= 70}\n",
    "s_df = pd.DataFrame(list(fake_dict.items()), columns=['students', 'grade'])\n",
    "# s_df.to_csv(\"students_df.csv\")\n",
    "print(fake_dict)\n",
    "print(s_df)\n",
    "print(list(fake_dict.items()))"
   ]
  },
  {
   "cell_type": "code",
   "execution_count": 15,
   "metadata": {},
   "outputs": [
    {
     "name": "stdout",
     "output_type": "stream",
     "text": [
      "{'What': 4, 'is': 2, 'the': 3, 'Airspeed': 8, 'Velocity': 8, 'of': 2, 'an': 2, 'Unladen': 7, 'Swallow': 7}\n"
     ]
    }
   ],
   "source": [
    "\n",
    "sentence = \"What is the Airspeed Velocity of an Unladen Swallow?\"\n",
    "# list = sentence.strip('?').split()\n",
    "result = {word: len(word) for word in sentence.strip('?').split()}\n",
    "# print(list)\n",
    "print(result)"
   ]
  },
  {
   "cell_type": "code",
   "execution_count": 5,
   "metadata": {},
   "outputs": [
    {
     "name": "stdout",
     "output_type": "stream",
     "text": [
      "dict_items([('Monday', 12), ('Tuesday', 14), ('Wednesday', 15), ('Thursday', 14), ('Friday', 21), ('Saturday', 22), ('Sunday', 24)])\n",
      "<class 'dict_items'>\n",
      "{'Monday': 53.6, 'Tuesday': 57.2, 'Wednesday': 59.0, 'Thursday': 57.2, 'Friday': 69.8, 'Saturday': 71.6, 'Sunday': 75.2}\n",
      "<class 'dict'>\n"
     ]
    }
   ],
   "source": [
    "weather_f = {\"Monday\": 12, \"Tuesday\": 14, \"Wednesday\": 15, \"Thursday\": 14, \"Friday\": 21, \"Saturday\": 22, \"Sunday\": 24}\n",
    "li = weather_f.items()\n",
    "result = {key: (value*9/5+32) for key,value in weather_f.items()}\n",
    "\n",
    "print(li)\n",
    "print(type(li))\n",
    "print(result)\n",
    "print(type(result))"
   ]
  },
  {
   "cell_type": "code",
   "execution_count": 9,
   "metadata": {},
   "outputs": [
    {
     "name": "stdout",
     "output_type": "stream",
     "text": [
      "   letter      code\n",
      "0       A      Alfa\n",
      "1       B     Bravo\n",
      "2       C   Charlie\n",
      "3       D     Delta\n",
      "4       E      Echo\n",
      "5       F   Foxtrot\n",
      "6       G      Golf\n",
      "7       H     Hotel\n",
      "8       I     India\n",
      "9       J    Juliet\n",
      "10      K      Kilo\n",
      "11      L      Lima\n",
      "12      M      Mike\n",
      "13      N  November\n",
      "14      O     Oscar\n",
      "15      P      Papa\n",
      "16      Q    Quebec\n",
      "17      R     Romeo\n",
      "18      S    Sierra\n",
      "19      T     Tango\n",
      "20      U   Uniform\n",
      "21      V    Victor\n",
      "22      W   Whiskey\n",
      "23      X     X-ray\n",
      "24      Y    Yankee\n",
      "25      Z      Zulu\n",
      "{'A': 'Alfa', 'B': 'Bravo', 'C': 'Charlie', 'D': 'Delta', 'E': 'Echo', 'F': 'Foxtrot', 'G': 'Golf', 'H': 'Hotel', 'I': 'India', 'J': 'Juliet', 'K': 'Kilo', 'L': 'Lima', 'M': 'Mike', 'N': 'November', 'O': 'Oscar', 'P': 'Papa', 'Q': 'Quebec', 'R': 'Romeo', 'S': 'Sierra', 'T': 'Tango', 'U': 'Uniform', 'V': 'Victor', 'W': 'Whiskey', 'X': 'X-ray', 'Y': 'Yankee', 'Z': 'Zulu'}\n",
      "{'letter': {0: 'A', 1: 'B', 2: 'C', 3: 'D', 4: 'E', 5: 'F', 6: 'G', 7: 'H', 8: 'I', 9: 'J', 10: 'K', 11: 'L', 12: 'M', 13: 'N', 14: 'O', 15: 'P', 16: 'Q', 17: 'R', 18: 'S', 19: 'T', 20: 'U', 21: 'V', 22: 'W', 23: 'X', 24: 'Y', 25: 'Z'}, 'code': {0: 'Alfa', 1: 'Bravo', 2: 'Charlie', 3: 'Delta', 4: 'Echo', 5: 'Foxtrot', 6: 'Golf', 7: 'Hotel', 8: 'India', 9: 'Juliet', 10: 'Kilo', 11: 'Lima', 12: 'Mike', 13: 'November', 14: 'Oscar', 15: 'Papa', 16: 'Quebec', 17: 'Romeo', 18: 'Sierra', 19: 'Tango', 20: 'Uniform', 21: 'Victor', 22: 'Whiskey', 23: 'X-ray', 24: 'Yankee', 25: 'Zulu'}}\n"
     ]
    }
   ],
   "source": [
    "import pandas as pd\n",
    "\n",
    "nato_df = pd.read_csv(r\"C:\\Users\\flpas\\OneDrive - Connection Systems Development\\Python-Development\\day26\\NATO-alphabet-start\\NATO-alphabet-start\\nato_phonetic_alphabet.csv\")\n",
    "#Loop through rows of a data frame\n",
    "nato_dict = {row.letter: row.code for (index, row) in nato_df.iterrows()}\n",
    "to_dict = nato_df.to_dict()\n",
    "print(nato_df)\n",
    "print(nato_dict)\n",
    "print(to_dict)"
   ]
  },
  {
   "cell_type": "code",
   "execution_count": null,
   "metadata": {},
   "outputs": [],
   "source": []
  }
 ],
 "metadata": {
  "kernelspec": {
   "display_name": "Python 3",
   "language": "python",
   "name": "python3"
  },
  "language_info": {
   "codemirror_mode": {
    "name": "ipython",
    "version": 3
   },
   "file_extension": ".py",
   "mimetype": "text/x-python",
   "name": "python",
   "nbconvert_exporter": "python",
   "pygments_lexer": "ipython3",
   "version": "3.12.0"
  }
 },
 "nbformat": 4,
 "nbformat_minor": 2
}
