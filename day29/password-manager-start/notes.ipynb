{
 "cells": [
  {
   "cell_type": "code",
   "execution_count": 14,
   "metadata": {},
   "outputs": [
    {
     "data": {
      "text/plain": [
       "'[zk;a<?q)D8+REvW'"
      ]
     },
     "execution_count": 14,
     "metadata": {},
     "output_type": "execute_result"
    }
   ],
   "source": [
    "import string\n",
    "import random\n",
    "\n",
    "def generate_pwd():\n",
    "    char_list = [i for i in string.ascii_letters + string.digits + string.punctuation]\n",
    "    pwd_list = [random.choice(char_list) for n in range(16)]\n",
    "    pwd_list_str = \"\".join(pwd_list)\n",
    "    return pwd_list_str\n",
    "\n",
    "generate_pwd()"
   ]
  },
  {
   "cell_type": "markdown",
   "metadata": {},
   "source": [
    "qtb$2rIq9kzd\n",
    "7+D1^S5Cwx3C"
   ]
  },
  {
   "cell_type": "code",
   "execution_count": 13,
   "metadata": {},
   "outputs": [],
   "source": [
    "import pandas as pd\n",
    "import csv\n",
    "\n",
    "data = [['url', \"Username\", \"Password\"]]\n",
    "# Open (or create) the CSV file\n",
    "with open('data.csv', 'w', newline='') as file:\n",
    "    writer = csv.writer(file)\n",
    "    # Write the data\n",
    "    for row in data:\n",
    "        writer.writerow(row)\n",
    "\n",
    "# def write_to_csv(entry, filename):\n",
    "# Get the text from the Entry widget\n",
    "# text = entry.get()\n",
    "\n",
    "# # Open the CSV file\n",
    "# with open(r\"C:\\Users\\flpas\\OneDrive - Connection Systems Development\\Python-Development\\day29\\password-manager-start\\data.csv\", 'a', newline='') as file:\n",
    "#     writer = csv.writer(file)\n",
    "#     # Write the text to a new row in the CSV file\n",
    "#     writer.writerow([text])\n"
   ]
  },
  {
   "cell_type": "code",
   "execution_count": 5,
   "metadata": {},
   "outputs": [
    {
     "name": "stdout",
     "output_type": "stream",
     "text": [
      "{'email': 'flpasana@outlook.com', 'password': 'GYg:9I3*7F<Cm&_U'}\n",
      "email: flpasana@outlook.com\n",
      "password: GYg:9I3*7F<Cm&_U\n"
     ]
    }
   ],
   "source": [
    "import json\n",
    "keyword = 'amazon'\n",
    "keyword = keyword.title()\n",
    "\n",
    "with open('data.json', 'r') as file:\n",
    "    data = json.load(file)\n",
    "    result = data[keyword]\n",
    "    print(result)\n",
    "    print(f\"email: {result['email']}\\npassword: {result['password']}\")\n",
    "\n"
   ]
  },
  {
   "cell_type": "code",
   "execution_count": null,
   "metadata": {},
   "outputs": [],
   "source": []
  }
 ],
 "metadata": {
  "kernelspec": {
   "display_name": "Python 3",
   "language": "python",
   "name": "python3"
  },
  "language_info": {
   "codemirror_mode": {
    "name": "ipython",
    "version": 3
   },
   "file_extension": ".py",
   "mimetype": "text/x-python",
   "name": "python",
   "nbconvert_exporter": "python",
   "pygments_lexer": "ipython3",
   "version": "3.12.0"
  }
 },
 "nbformat": 4,
 "nbformat_minor": 2
}
