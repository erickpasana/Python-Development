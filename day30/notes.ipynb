{
 "cells": [
  {
   "cell_type": "code",
   "execution_count": null,
   "metadata": {},
   "outputs": [],
   "source": [
    "fruits = [\"Apple\", \"Pear\", \"Orange\"]\n",
    "# 🚨 Do not change the code above\n",
    "\n",
    "# TODO: Catch the exception and make sure the code runs without crashing.\n",
    "def make_pie(index):\n",
    "    \n",
    "    try:\n",
    "        fruit = fruits[index]\n",
    "    except IndexError:\n",
    "        print(f\"Fruit pie\")\n",
    "    else:\n",
    "        print(fruit + \" pie\")\n",
    "\n",
    "\n",
    "\n",
    "# 🚨 Do not change the code below\n",
    "make_pie(1)"
   ]
  },
  {
   "cell_type": "code",
   "execution_count": 3,
   "metadata": {},
   "outputs": [
    {
     "name": "stdout",
     "output_type": "stream",
     "text": [
      "86\n"
     ]
    }
   ],
   "source": [
    "# eval() function will create a list of dictionaries using the input\n",
    "# facebook_posts = eval(input())\n",
    "facebook_posts = [\n",
    "    {'Likes': 21, 'Comments': 2}, \n",
    "    {'Likes': 13, 'Comments': 2, 'Shares': 1}, \n",
    "    {'Likes': 33, 'Comments': 8, 'Shares': 3}, \n",
    "    {'Comments': 4, 'Shares': 2}, \n",
    "    {'Comments': 1, 'Shares': 1}, \n",
    "    {'Likes': 19, 'Comments': 3}\n",
    "]\n",
    "\n",
    "total_likes = 0\n",
    "# TODO: Catch the KeyError exception\n",
    "for post in facebook_posts:\n",
    "    try:\n",
    "        # total_likes = total_likes + post['Likes']\n",
    "        total_likes += post['Likes']\n",
    "    except KeyError:\n",
    "        pass\n",
    "        # total_likes += 0\n",
    "\n",
    "\n",
    "print(total_likes)"
   ]
  },
  {
   "cell_type": "code",
   "execution_count": null,
   "metadata": {},
   "outputs": [],
   "source": []
  }
 ],
 "metadata": {
  "kernelspec": {
   "display_name": "Python 3",
   "language": "python",
   "name": "python3"
  },
  "language_info": {
   "codemirror_mode": {
    "name": "ipython",
    "version": 3
   },
   "file_extension": ".py",
   "mimetype": "text/x-python",
   "name": "python",
   "nbconvert_exporter": "python",
   "pygments_lexer": "ipython3",
   "version": "3.12.0"
  }
 },
 "nbformat": 4,
 "nbformat_minor": 2
}
